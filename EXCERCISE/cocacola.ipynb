{
 "cells": [
  {
   "cell_type": "markdown",
   "id": "7682c1ed",
   "metadata": {},
   "source": [
    "### Cocacola\n",
    "\n",
    "1. Pobierz dane na temat sprzedaży CocaColi globalnie w latach 1993 - 2023\n",
    "\n",
    "2. Oceń dane, sprawdź brakujące dane, uzupełnij braki\n",
    "\n",
    "3. Stwórz wykres danych\n",
    "\n",
    "4. Stwórz prognozę sprzedaży CocaCola na rok 2024, 2025 a potem na 2026\n",
    "\n"
   ]
  },
  {
   "cell_type": "markdown",
   "id": "90f76a16",
   "metadata": {},
   "source": []
  }
 ],
 "metadata": {
  "kernelspec": {
   "display_name": ".venv",
   "language": "python",
   "name": "python3"
  },
  "language_info": {
   "codemirror_mode": {
    "name": "ipython",
    "version": 3
   },
   "file_extension": ".py",
   "mimetype": "text/x-python",
   "name": "python",
   "nbconvert_exporter": "python",
   "pygments_lexer": "ipython3",
   "version": "3.12.3"
  }
 },
 "nbformat": 4,
 "nbformat_minor": 5
}
