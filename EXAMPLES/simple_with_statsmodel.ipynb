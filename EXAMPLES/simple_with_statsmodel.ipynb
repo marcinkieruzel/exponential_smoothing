{
 "cells": [
  {
   "cell_type": "code",
   "execution_count": null,
   "id": "4ef34732",
   "metadata": {},
   "outputs": [],
   "source": "from statsmodels.tsa.holtwinters import SimpleExpSmoothing, ExponentialSmoothing\nfrom matplotlib import pyplot as plot\n\nprices = [100, 100, 120, 112, 100, 105, 98, 102, 110, 108, 107, 111, 109, 112, 115, 113]\nalpha = 0.3  # Parametr wygładzania\n\nmean_values = [sum(prices) / len(prices)] * (len(prices) + 5)\n\n# Dopasowanie modelu\nmodel = SimpleExpSmoothing(prices)\nmodel = model.fit(smoothing_level=alpha, optimized=False)\n\n\nprint(\"Model Summary:\",  model.fittedvalues)\n\n# Prognoza następnych wartości\nnext_forecast = model.forecast(5)\nforecast_values = model.fittedvalues.tolist() + list(next_forecast)\nprint(\"Mean Values: \", mean_values)\n\nprint(\"Forecast Values: \", forecast_values)\n\nfigure = plot.figure(figsize=(10, 6))\nplot.plot(prices, label='Original Prices', marker='o')\nplot.plot(mean_values, label='Mean Values', linestyle='--')\nplot.plot(forecast_values, label='Forecast Values', marker='x')\nplot.title('Simple Exponential Smoothing Forecast')\nplot.xlabel('Time Periods')\nplot.ylabel('Prices')\nplot.legend()\nplot.grid()\nplot.show()\n"
  }
 ],
 "metadata": {
  "kernelspec": {
   "display_name": ".venv",
   "language": "python",
   "name": "python3"
  },
  "language_info": {
   "codemirror_mode": {
    "name": "ipython",
    "version": 3
   },
   "file_extension": ".py",
   "mimetype": "text/x-python",
   "name": "python",
   "nbconvert_exporter": "python",
   "pygments_lexer": "ipython3",
   "version": "3.12.3"
  }
 },
 "nbformat": 4,
 "nbformat_minor": 5
}