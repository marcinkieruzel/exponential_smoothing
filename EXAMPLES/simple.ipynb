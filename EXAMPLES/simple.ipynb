{
 "cells": [
  {
   "cell_type": "code",
   "execution_count": null,
   "id": "fe7fe38c",
   "metadata": {},
   "outputs": [],
   "source": "# Proste wygładzanie wykładnicze w czystym Pythonie\n# Nie są wymagane żadne zewnętrzne biblioteki!\n\nimport matplotlib.pyplot as plt\n\ndef simple_exponential_smoothing(data, alpha):\n    \"\"\"\n    Implementacja prostego wygładzania wykładniczego\n    data: lista liczb\n    alpha: parametr wygładzania (0 < alpha <= 1)\n    \"\"\"\n    if not data:\n        return []\n    \n    # Inicjalizacja pierwszą wartością\n    smoothed = [data[0]]\n    \n    # Zastosowanie formuły wygładzania wykładniczego\n    for i in range(1, len(data)):\n        # S_t = α * X_t + (1-α) * S_{t-1}\n        new_value = alpha * data[i] + (1 - alpha) * smoothed[i-1]\n\n        # Aktualna wartość kroku to 30% (przy założeniu, że alpha=0.3) wartości bieżącej i 70% wartości poprzedniej wygładzonej\n\n        print(f\"Step: {i}, {data[i]}\")  # Komunikat debugowania\n        print(f\"{alpha} * {data[i]} + (1 - {alpha}) * {smoothed[i-1]} = {new_value}\")  # Komunikat debugowania\n\n        smoothed.append(new_value)\n    \n    return smoothed\n\n# Przykładowe dane\nprices = [100, 100, 120, 112, 100, 105, 98, 102, 110, 108, 107, 111, 109, 112, 115, 113]\nalpha = 0.3  # Parametr wygładzania\n\nmean_values = [sum(prices) / len(prices)] * (len(prices) + 5)\n\n# Zastosowanie wygładzania\nsmoothed_prices = simple_exponential_smoothing(prices, alpha)\n\nprint(smoothed_prices)\n\n# Wyświetlenie wyników\nprint(\"Original data:\", prices)\nprint(\"Smoothed data:\", [round(x, 2) for x in smoothed_prices])\n\n# # Prognoza następnej wartości\nnext_forecast = smoothed_prices[-1]\nprint(f\"Next period forecast: {next_forecast:.2f}\")\n\nsmoothed_prices = smoothed_prices + [next_forecast]*5\n\n# # Prosta wizualizacja (przy użyciu tekstu)\n# print(\"\\nComparison:\")\n# for i, (orig, smooth) in enumerate(zip(prices, smoothed_prices)):\n#     print(f\"Period {i+1:2d}: Original={orig:3d}, Smoothed={smooth:6.2f}\")\n\nfigure = plt.figure(figsize=(10, 5))\nplt.plot(prices, label='Original Data', marker='o')\nplt.plot(smoothed_prices, label='Smoothed Data', marker='o')\nplt.plot(mean_values, label='Mean Value', linestyle='--')\nplt.title('Simple Exponential Smoothing')\nplt.xlabel('Time Period')\nplt.ylabel('Value')\nplt.legend()\nplt.grid()\nplt.show()"
  }
 ],
 "metadata": {
  "kernelspec": {
   "display_name": ".venv",
   "language": "python",
   "name": "python3"
  },
  "language_info": {
   "codemirror_mode": {
    "name": "ipython",
    "version": 3
   },
   "file_extension": ".py",
   "mimetype": "text/x-python",
   "name": "python",
   "nbconvert_exporter": "python",
   "pygments_lexer": "ipython3",
   "version": "3.12.3"
  }
 },
 "nbformat": 4,
 "nbformat_minor": 5
}